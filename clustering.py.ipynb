{
 "cells": [
  {
   "cell_type": "code",
   "execution_count": 1,
   "metadata": {},
   "outputs": [],
   "source": [
    "from sklearn.datasets import load_iris\n",
    "import numpy as np\n",
    "iris=load_iris()\n",
    "X=iris.data\n",
    "y=iris.target"
   ]
  },
  {
   "cell_type": "code",
   "execution_count": 2,
   "metadata": {},
   "outputs": [],
   "source": [
    "from sklearn.preprocessing import StandardScaler\n",
    "scaler=StandardScaler()\n",
    "scaler.fit(X)\n",
    "X_std=scaler.fit_transform(X)"
   ]
  },
  {
   "cell_type": "code",
   "execution_count": 3,
   "metadata": {},
   "outputs": [],
   "source": [
    "from sklearn.decomposition import PCA\n",
    "pca=PCA(n_components=4)\n",
    "X_pca=pca.fit_transform(X_std)"
   ]
  },
  {
   "cell_type": "code",
   "execution_count": 6,
   "metadata": {},
   "outputs": [],
   "source": [
    "from sklearn.cluster import KMeans\n",
    "km=KMeans(n_clusters=3,\n",
    "         init='random',\n",
    "         n_init=10,\n",
    "         max_iter=300,\n",
    "         tol=1e-04,\n",
    "         random_state=0,\n",
    "         )\n",
    "\n",
    "y_km=km.fit_predict(X_pca[:,0:2])"
   ]
  },
  {
   "cell_type": "code",
   "execution_count": 7,
   "metadata": {},
   "outputs": [],
   "source": [
    "import matplotlib.pyplot as plt\n",
    "% matplotlib inline\n",
    "\n",
    "def kmeans_plot(n_clusters,km,X):\n",
    "    y_km=km.fit_predict(X)\n",
    "    \n",
    "    for i,color,marker in zip(range(n_clusters),'rgbcm','>o+xv'):\n",
    "         plt.scatter(X[y_km==i, 0],            # 横軸の値\n",
    "                    X[y_km==i, 1],            # 縦軸の値\n",
    "                    color=color,              # プロットの色\n",
    "                    marker=marker,            # プロットの形\n",
    "                    label='cluster ' + str(i) # ラベル\n",
    "                   )\n",
    "            \n",
    "    plt.scatter(km.cluster_centers_[:, 0],    # 横軸の値\n",
    "                km.cluster_centers_[:, 1],    # 縦軸の値\n",
    "                color='y',                    # プロットの色\n",
    "                marker='*',                   # プロットの形\n",
    "                label='centroids',            # ラベル\n",
    "                s=300,                        # プロットのサイズを大きくして見やすくする\n",
    "               )\n",
    "    \n",
    "    plt.legend()\n",
    "    plt.grid()\n",
    "    plt.show()"
   ]
  },
  {
   "cell_type": "code",
   "execution_count": 8,
   "metadata": {},
   "outputs": [
    {
     "data": {
      "image/png": "[encoded data removed]",
      "text/plain": [
       "<Figure size 432x288 with 1 Axes>"
      ]
     },
     "metadata": {
      "needs_background": "light"
     },
     "output_type": "display_data"
    }
   ],
   "source": [
    "kmeans_plot(3,km,X_pca[:,0:2])"
   ]
  },
  {
   "cell_type": "code",
   "execution_count": null,
   "metadata": {},
   "outputs": [],
   "source": []
  }
 ],
 "metadata": {
  "kernelspec": {
   "display_name": "Python 3",
   "language": "python",
   "name": "python3"
  },
  "language_info": {
   "codemirror_mode": {
    "name": "ipython",
    "version": 3
   },
   "file_extension": ".py",
   "mimetype": "text/x-python",
   "name": "python",
   "nbconvert_exporter": "python",
   "pygments_lexer": "ipython3",
   "version": "3.7.0"
  }
 },
 "nbformat": 4,
 "nbformat_minor": 2
}
